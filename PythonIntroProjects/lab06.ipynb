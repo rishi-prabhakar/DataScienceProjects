{
 "cells": [
  {
   "cell_type": "code",
   "execution_count": 1,
   "metadata": {
    "deletable": false,
    "editable": false
   },
   "outputs": [],
   "source": [
    "import otter\n",
    "grader = otter.Notebook()"
   ]
  },
  {
   "cell_type": "markdown",
   "metadata": {},
   "source": [
    "## Lab 6: Examining the Therapeutic Touch\n",
    "\n",
    "Welcome to Lab 6!\n",
    "\n",
    "After such an extensive introduction to programming for data science, we are finally moving into the section of the course where we can apply our new skills to answer real questions.  \n",
    "\n",
    "In this lab, we'll use testing techniques that were introduced in lecture to test the idea of the therapeutic touch, the idea that some practitioners can feel and massage your human energy field. "
   ]
  },
  {
   "cell_type": "code",
   "execution_count": 2,
   "metadata": {},
   "outputs": [],
   "source": [
    "# Run this cell, but please don't change it.\n",
    "\n",
    "# These lines import the Numpy and Datascience modules.\n",
    "import numpy as np\n",
    "from datascience import *\n",
    "\n",
    "# These lines do some fancy plotting magic\n",
    "import matplotlib\n",
    "%matplotlib inline\n",
    "import matplotlib.pyplot as plt\n",
    "plt.style.use('fivethirtyeight')\n",
    "import warnings\n",
    "warnings.simplefilter('ignore', FutureWarning)\n",
    "from matplotlib import patches\n",
    "from ipywidgets import interact, interactive, fixed\n",
    "import ipywidgets as widgets\n"
   ]
  },
  {
   "cell_type": "markdown",
   "metadata": {},
   "source": [
    "### What is the Therapeutic Touch\n",
    "\n",
    "The Therapeutic Touch (TT) is the idea that everyone can feel the Human Energy Field (HEF) around individuals.  Those who practice TT have described different people's HEFs as \"warm as Jell-O\" and \"tactile as taffy.\" \n",
    "\n",
    "TT was a popular technique used throughout the 20th century that was toted as a great way to bring balance to a person's health. Certain practitioners claim they have the ability to feel the HEF and can massage it in order to promote health and relaxation in individuals.\n",
    "\n",
    "### Emily Rosa\n",
    "\n",
    "[Emily Rosa](https://en.wikipedia.org/wiki/Emily_Rosa) was a 4th grade student who was very familiar with the world of TT, thanks to her parents, who were both medical practitioners and skeptics of TT.\n",
    "\n",
    "For her 4th grade science fair project, Emily decided to test whether or not TT practitioners could truly interact with a person's HEF. She later went on to publish her work in TT, becoming the youngest person to have a research paper published in a peer reviewed medical journal."
   ]
  },
  {
   "cell_type": "markdown",
   "metadata": {},
   "source": [
    "### Emily's Experiment\n",
    "\n",
    "Emily's experiment was clean, simple, and effective. Due to her parents' occupations in the medical field, she had wide access to people who claimed to be TT practitioners. \n",
    "\n",
    "Emily took 21 TT practitioners and used them for her science experiment. She would take a TT practitioner and ask them to extend their hands through a screen (which they can't see through). Emily would be on the other side and would flip a fair coin. Depending on how the coin landed, she would put out either her left hand or her right hand. The TT practitioner would then have to answer which hand Emily put out. If a pracitioner could truly interact with a person's HEF, it would be expected that they answered correctly.\n",
    "\n",
    "Overall, through 210 samples, the practitioner picked the correct hand 44% of the time. \n",
    "\n",
    "Emily's main goal here was to test whether or not the TT practicioners' guesses were random, like the flip of a coin. \n",
    "\n",
    "We will now begin to formulate this experiment in terms of the terminology we learned in this course. "
   ]
  },
  {
   "cell_type": "markdown",
   "metadata": {
    "deletable": false
   },
   "source": [
    "**Question 1**: Describe Emily’s model (assumption) for how likely the TT practitioners are to choose the correct hand. What alternative model (TT practitioners assumption) is her model meant to discredit? Discuss with students around you to come to a conclusion. \n",
    "\n",
    "<!--\n",
    "BEGIN QUESTION\n",
    "name: q1_1\n",
    "-->"
   ]
  },
  {
   "cell_type": "markdown",
   "metadata": {
    "for_assignment_type": "solution"
   },
   "source": [
    "Emily's assumption for how likely the TT practitioners are to choose the correct hand is that they will choose the correct hand roughly 50% of the time, as indicated by the use of a coin flip (which in theory has a 50% chance of landing on either heads or tails). The alternative model her model is meant to discredit is the idea that TT practioners are able to correctly guess the correct hand by interpreting HEF. "
   ]
  },
  {
   "cell_type": "markdown",
   "metadata": {
    "deletable": false,
    "editable": false
   },
   "source": [
    "**Question 2:** Remember that the practitioner got the correct answer 44% (0.44) of the time. According to Emily's model, on average, what proportion of times do we expect the practitioner to guess the correct hand? Make sure your answer is between 0 and 1. \n",
    "\n",
    "<!--\n",
    "BEGIN QUESTION\n",
    "name: q1_2\n",
    "-->"
   ]
  },
  {
   "cell_type": "code",
   "execution_count": 7,
   "metadata": {},
   "outputs": [
    {
     "data": {
      "text/plain": [
       "0.5"
      ]
     },
     "execution_count": 7,
     "metadata": {},
     "output_type": "execute_result"
    }
   ],
   "source": [
    "expected_proportion_correct = .5\n",
    "expected_proportion_correct"
   ]
  },
  {
   "cell_type": "code",
   "execution_count": 8,
   "metadata": {
    "deletable": false,
    "editable": false
   },
   "outputs": [
    {
     "data": {
      "text/html": [
       "<p><strong><pre style='display: inline;'>q1_2</pre></strong> passed!</p>"
      ],
      "text/plain": [
       "q1_2 results: All test cases passed!"
      ]
     },
     "execution_count": 8,
     "metadata": {},
     "output_type": "execute_result"
    }
   ],
   "source": [
    "grader.check(\"q1_2\")"
   ]
  },
  {
   "cell_type": "markdown",
   "metadata": {
    "deletable": false
   },
   "source": [
    "The goal now is to see if our deviation from this expected proportion of correct answers is due to something other than chance. \n",
    "\n",
    "**Question 3:** We usually use a statistic to help determine which model the evidence points towards. What is a statistic that we can use to compare outcomes under Emily’s model to what was observed? Assign `valid_stat` to an array of integer(s) representing test statistics that Emily can use: \n",
    "\n",
    "1. The difference from the actual percent correct and 0. \n",
    "2. The difference between the expected percent correct and the actual percent correct\n",
    "3. The sum of the expected percent correct and the actual percent correct\n",
    "\n",
    "\n",
    "<!--\n",
    "BEGIN QUESTION\n",
    "name: q1_3\n",
    "-->"
   ]
  },
  {
   "cell_type": "code",
   "execution_count": 11,
   "metadata": {},
   "outputs": [
    {
     "data": {
      "text/plain": [
       "array([2])"
      ]
     },
     "execution_count": 11,
     "metadata": {},
     "output_type": "execute_result"
    }
   ],
   "source": [
    "valid_stat = make_array(2)\n",
    "valid_stat"
   ]
  },
  {
   "cell_type": "code",
   "execution_count": 12,
   "metadata": {
    "deletable": false,
    "editable": false
   },
   "outputs": [
    {
     "data": {
      "text/html": [
       "<p><strong><pre style='display: inline;'>q1_3</pre></strong> passed!</p>"
      ],
      "text/plain": [
       "q1_3 results: All test cases passed!"
      ]
     },
     "execution_count": 12,
     "metadata": {},
     "output_type": "execute_result"
    }
   ],
   "source": [
    "grader.check(\"q1_3\")"
   ]
  },
  {
   "cell_type": "markdown",
   "metadata": {
    "deletable": false,
    "editable": false
   },
   "source": [
    "**Question 4:** Why is the statistic from Question 3 the best choice for comparing outcomes in Emily's experiment? How does it relate to the models you defined in question 1?\n",
    "\n",
    "<!--\n",
    "BEGIN QUESTION\n",
    "name: q1_4\n",
    "-->"
   ]
  },
  {
   "cell_type": "markdown",
   "metadata": {},
   "source": [
    "2 is the best model for comparing outcomes in Emily's experiment because it allows us to see test her hypothesis to see how far off her theoretical is from the actual values. It helps us to analyze the validity of her hypothesis. It relates to the models in Q1 because it allows us to test Emily's assumption that 50% of the time the TT practitioners will select the correct hand."
   ]
  },
  {
   "cell_type": "markdown",
   "metadata": {
    "deletable": false
   },
   "source": [
    "**Question 5:** Define the function `statistic` which takes in an expected proportion and an actual proportion, and calculates the value of the statistic chosen in Question 3 for `diff=`. Assume that the argument takes in proportions, but  return your answer as a percentage. \n",
    "\n",
    "*Hint:* Remember we are asking for a **percentage**, not a proportion. \n",
    "\n",
    "<!--\n",
    "BEGIN QUESTION\n",
    "name: q1_5\n",
    "-->"
   ]
  },
  {
   "cell_type": "code",
   "execution_count": 28,
   "metadata": {},
   "outputs": [],
   "source": [
    "def statistic(expected_prop, actual_prop):\n",
    "    diff = (expected_prop-actual_prop)*100\n",
    "    return abs(diff)"
   ]
  },
  {
   "cell_type": "code",
   "execution_count": 29,
   "metadata": {
    "deletable": false,
    "editable": false
   },
   "outputs": [
    {
     "data": {
      "text/html": [
       "<p><strong><pre style='display: inline;'>q1_5</pre></strong> passed!</p>"
      ],
      "text/plain": [
       "q1_5 results: All test cases passed!"
      ]
     },
     "execution_count": 29,
     "metadata": {},
     "output_type": "execute_result"
    }
   ],
   "source": [
    "grader.check(\"q1_5\")"
   ]
  },
  {
   "cell_type": "markdown",
   "metadata": {
    "deletable": false
   },
   "source": [
    "**Question 6:** Use your newly defined function to calculate the observed (absolute-valued) statistic from Emily's experiment. \n",
    "\n",
    "<!--\n",
    "BEGIN QUESTION\n",
    "name: q1_6\n",
    "-->"
   ]
  },
  {
   "cell_type": "code",
   "execution_count": 30,
   "metadata": {},
   "outputs": [
    {
     "data": {
      "text/plain": [
       "6.0"
      ]
     },
     "execution_count": 30,
     "metadata": {},
     "output_type": "execute_result"
    }
   ],
   "source": [
    "observed_statistic = statistic(.5,.44)\n",
    "observed_statistic"
   ]
  },
  {
   "cell_type": "code",
   "execution_count": 31,
   "metadata": {
    "deletable": false,
    "editable": false
   },
   "outputs": [
    {
     "data": {
      "text/html": [
       "<p><strong><pre style='display: inline;'>q1_6</pre></strong> passed!</p>"
      ],
      "text/plain": [
       "q1_6 results: All test cases passed!"
      ]
     },
     "execution_count": 31,
     "metadata": {},
     "output_type": "execute_result"
    }
   ],
   "source": [
    "grader.check(\"q1_6\")"
   ]
  },
  {
   "cell_type": "markdown",
   "metadata": {},
   "source": [
    "**Is this observed statistic consistent with what we might see under Emily’s model, or moreso with the alternative model?**\n",
    "\n",
    "In order to answer this question, we can simulate the experiment as though Emily's model was correct, and calculate our statistic for every simulation.\n",
    "\n",
    "### `sample_proportions`\n",
    "\n",
    "`sample_proportions` can be used to randomly sample from multiple categories when you know the proportion of data points that are expected to fall in each category. `sample_proportions` takes two arguments: the sample size and an array that contains the distribution of categories in the population (should sum to 1).\n",
    "\n",
    "Consider flipping a fair coin, where the two outcomes (coin lands heads and coin lands tails) occur with an equal chance. We expect that half of all coin flips will land heads, and half of all coin flips will land tails.\n",
    "\n",
    "Run the following cell to see the simulation of 10 flips of a fair coin. Let the first item of `coin_proportions` be the proportion of heads and the second item of `coin_proportions` be the proportion of tails."
   ]
  },
  {
   "cell_type": "code",
   "execution_count": 33,
   "metadata": {},
   "outputs": [
    {
     "data": {
      "text/plain": [
       "array([ 0.4,  0.6])"
      ]
     },
     "execution_count": 33,
     "metadata": {},
     "output_type": "execute_result"
    }
   ],
   "source": [
    "coin_proportions = make_array(0.5, 0.5) \n",
    "ten_flips = sample_proportions(10, coin_proportions)\n",
    "ten_flips"
   ]
  },
  {
   "cell_type": "markdown",
   "metadata": {},
   "source": [
    "`sample_proportions` returns an array that is the same length as the proportion array that is passed through. It contains the proportion of each category that appears in the sample. \n",
    "\n",
    "In our example, the first item of `ten_flips` is the simulated proportion of heads and the second item of `ten_flips` is the simulated proportion of tails."
   ]
  },
  {
   "cell_type": "code",
   "execution_count": 34,
   "metadata": {},
   "outputs": [
    {
     "name": "stdout",
     "output_type": "stream",
     "text": [
      "In our simluation, 0.4 of flips were heads and 0.6 of flips were tails.\n"
     ]
    }
   ],
   "source": [
    "simluated_proportion_heads = ten_flips.item(0)\n",
    "simluated_proportion_tails = ten_flips.item(1)\n",
    "\n",
    "print(\"In our simluation, \" + str(simluated_proportion_heads) + \" of flips were heads and \" \\\n",
    "      + str(simluated_proportion_tails) + \" of flips were tails.\")"
   ]
  },
  {
   "cell_type": "markdown",
   "metadata": {
    "deletable": false,
    "editable": false
   },
   "source": [
    "**Question 7:** To begin simulating, we should start by creating a representation of Emily's model to use for our simulation. This will be an array with two items in it. The first item should be the proportion of times, assuming that Emily’s model was correct, a TT practictioner picks the correct hand. The second item should be the proportion of times, under the same assumption, that the TT practitioner picks the incorrect hand. Assign `model_proportions` to this array. \n",
    "\n",
    "After this, we can simulate 210 hand choices, as Emily evaluated in real life, and find a single statistic to summarize this instance of the simulation. Use the `sample_proportions` function and assign the proportion of correct hand choices (out of 210) to `simulation_proportion_correct`. Lastly, use your statistic function to assign `one_statistic`  to the value of the statistic for this one simulation.\n",
    "\n",
    "*Hint:* `sample_proportions` usage can be found [here](http://data8.org/su19/python-reference.html).\n",
    "\n",
    "<!--\n",
    "BEGIN QUESTION\n",
    "name: q1_7\n",
    "-->"
   ]
  },
  {
   "cell_type": "code",
   "execution_count": 75,
   "metadata": {},
   "outputs": [
    {
     "data": {
      "text/plain": [
       "0.5238095238095238"
      ]
     },
     "execution_count": 75,
     "metadata": {},
     "output_type": "execute_result"
    }
   ],
   "source": [
    "model_proportions = make_array(.50,.50)\n",
    "simulation_proportion_correct = make_array(sample_proportions(210,model_proportions)).item(0)\n",
    "#float(simulation_proportion_correct)\n",
    "one_statistic = simulation_proportion_correct\n",
    "one_statistic"
   ]
  },
  {
   "cell_type": "code",
   "execution_count": 76,
   "metadata": {
    "deletable": false,
    "editable": false
   },
   "outputs": [
    {
     "data": {
      "text/html": [
       "<p><strong><pre style='display: inline;'>q1_7</pre></strong> passed!</p>"
      ],
      "text/plain": [
       "q1_7 results: All test cases passed!"
      ]
     },
     "execution_count": 76,
     "metadata": {},
     "output_type": "execute_result"
    }
   ],
   "source": [
    "grader.check(\"q1_7\")"
   ]
  },
  {
   "cell_type": "markdown",
   "metadata": {},
   "source": [
    "**Question 8:** Let's now see what the distribution of statistics is actually like under Emily's model. \n",
    "\n",
    "Define the function `simulation_and_statistic` to take in the `model_proportions` array and the expected proportion of times a TT practitioner would guess a hand correctly under Emily's model. The function should simulate Emily running through the experiment 210 times and return the statistic of this one simulation. \n",
    "\n",
    "*Hint:* This should follow the same pattern as the code you did in the previous problem.  "
   ]
  },
  {
   "cell_type": "code",
   "execution_count": 196,
   "metadata": {
    "for_assignment_type": "solution"
   },
   "outputs": [],
   "source": [
    "def simulation_and_statistic(model_proportions, expected_proportion_correct):\n",
    "    '''Simulates 210 TT hand choices under Emily’s model. \n",
    "    Returns one statistic from the simulation.'''\n",
    "    return abs(.5-sample_proportions(210,model_proportions).item(0))\n",
    "#subtract from .5 because that is the model emily uses"
   ]
  },
  {
   "cell_type": "markdown",
   "metadata": {
    "deletable": false,
    "editable": false
   },
   "source": [
    "Using this function, assign `simulated_statistics` to an array of 1000 statistics that you calculated under the assumption that Emily's model was true.\n",
    "\n",
    "<!--\n",
    "BEGIN QUESTION\n",
    "name: q1_8\n",
    "-->"
   ]
  },
  {
   "cell_type": "code",
   "execution_count": 106,
   "metadata": {},
   "outputs": [
    {
     "name": "stdout",
     "output_type": "stream",
     "text": [
      "[0.51300000000000001, 0.48699999999999999]\n"
     ]
    }
   ],
   "source": [
    "num_repetitions = np.empty(1000, dtype=object)\n",
    "\n",
    "\n",
    "\n",
    "simulated_statistics = []\n",
    "\n",
    "for p in sample_proportions(1000,model_proportions):\n",
    "    simulated_statistics.append(p)\n",
    "    \n",
    "print (simulated_statistics)"
   ]
  },
  {
   "cell_type": "code",
   "execution_count": 159,
   "metadata": {},
   "outputs": [
    {
     "name": "stdout",
     "output_type": "stream",
     "text": [
      "[ 0.51904762  0.50952381  0.53809524  0.4952381   0.48571429  0.51904762\n",
      "  0.4952381   0.4952381   0.51428571  0.5047619   0.5         0.45714286\n",
      "  0.50952381  0.45238095  0.52857143  0.5         0.5         0.48571429\n",
      "  0.50952381  0.5         0.45714286  0.51428571  0.51428571  0.47142857\n",
      "  0.55238095  0.48095238  0.50952381  0.46666667  0.55714286  0.5\n",
      "  0.52857143  0.46666667  0.4952381   0.55238095  0.48571429  0.56190476\n",
      "  0.53333333  0.5047619   0.54285714  0.48571429  0.45238095  0.48571429\n",
      "  0.54285714  0.4952381   0.47619048  0.52380952  0.4952381   0.50952381\n",
      "  0.53809524  0.5047619   0.47142857  0.46190476  0.5         0.55238095\n",
      "  0.48095238  0.48095238  0.47619048  0.54285714  0.48095238  0.44761905\n",
      "  0.52380952  0.47619048  0.59047619  0.40952381  0.5         0.5\n",
      "  0.48571429  0.52380952  0.47619048  0.5         0.5047619   0.48571429\n",
      "  0.48095238  0.44761905  0.5         0.52857143  0.54285714  0.50952381\n",
      "  0.55238095  0.49047619  0.47619048  0.55238095  0.46666667  0.50952381\n",
      "  0.44761905  0.54761905  0.52380952  0.4952381   0.5047619   0.5\n",
      "  0.51428571  0.50952381  0.5         0.51904762  0.47142857  0.46190476\n",
      "  0.41904762  0.52857143  0.45714286  0.5952381   0.49047619  0.49047619\n",
      "  0.5047619   0.45238095  0.52380952  0.52380952  0.50952381  0.48571429\n",
      "  0.55238095  0.48571429  0.5         0.49047619  0.46190476  0.5\n",
      "  0.53809524  0.51428571  0.45714286  0.45714286  0.52857143  0.4952381\n",
      "  0.45238095  0.46666667  0.53333333  0.52380952  0.48571429  0.51428571\n",
      "  0.47142857  0.48571429  0.42857143  0.47619048  0.47619048  0.45714286\n",
      "  0.51904762  0.45238095  0.46666667  0.5         0.45714286  0.52380952\n",
      "  0.47619048  0.5047619   0.43809524  0.47142857  0.47619048  0.47619048\n",
      "  0.49047619  0.51904762  0.47619048  0.5047619   0.47142857  0.52857143\n",
      "  0.47619048  0.52380952  0.51428571  0.48571429  0.47142857  0.50952381\n",
      "  0.5047619   0.51428571  0.48095238  0.51428571  0.45714286  0.51904762\n",
      "  0.58095238  0.45714286  0.54285714  0.51428571  0.48095238  0.47142857\n",
      "  0.5047619   0.53809524  0.52380952  0.55238095  0.4952381   0.56190476\n",
      "  0.51428571  0.46190476  0.44285714  0.41428571  0.53809524  0.53333333\n",
      "  0.44761905  0.47142857  0.41904762  0.51428571  0.4952381   0.56190476\n",
      "  0.50952381  0.52380952  0.50952381  0.48095238  0.4952381   0.5\n",
      "  0.43333333  0.48571429  0.54285714  0.46666667  0.55238095  0.52380952\n",
      "  0.4952381   0.50952381  0.52380952  0.48571429  0.49047619  0.49047619\n",
      "  0.5         0.50952381  0.51428571  0.42380952  0.48095238  0.48571429\n",
      "  0.45714286  0.4952381   0.48095238  0.47142857  0.43333333  0.51904762\n",
      "  0.4952381   0.49047619  0.49047619  0.52380952  0.52857143  0.52380952\n",
      "  0.48095238  0.53809524  0.4952381   0.5047619   0.44761905  0.48571429\n",
      "  0.47619048  0.51428571  0.47619048  0.48095238  0.45714286  0.47619048\n",
      "  0.4952381   0.5047619   0.53809524  0.55714286  0.47142857  0.54285714\n",
      "  0.5047619   0.53333333  0.51428571  0.46190476  0.5         0.51428571\n",
      "  0.5047619   0.54285714  0.51428571  0.52380952  0.46190476  0.5\n",
      "  0.48095238  0.5047619   0.4952381   0.5047619   0.42857143  0.4952381\n",
      "  0.46190476  0.54761905  0.5047619   0.53333333  0.56190476  0.53809524\n",
      "  0.48571429  0.46190476  0.5047619   0.4952381   0.44761905  0.52380952\n",
      "  0.53333333  0.46190476  0.52380952  0.49047619  0.51904762  0.43809524\n",
      "  0.55714286  0.44761905  0.48571429  0.49047619  0.50952381  0.52380952\n",
      "  0.51904762  0.51904762  0.45238095  0.47142857  0.52380952  0.42857143\n",
      "  0.55238095  0.4047619   0.51428571  0.53809524  0.52380952  0.53333333\n",
      "  0.48095238  0.46190476  0.55714286  0.5         0.53333333  0.52857143\n",
      "  0.56666667  0.4047619   0.54761905  0.51904762  0.48571429  0.52380952\n",
      "  0.47619048  0.48095238  0.55714286  0.58095238  0.4952381   0.51904762\n",
      "  0.53809524  0.45714286  0.45238095  0.52380952  0.3952381   0.51904762\n",
      "  0.45238095  0.46666667  0.50952381  0.44761905  0.5047619   0.5047619\n",
      "  0.5         0.44285714  0.53333333  0.51428571  0.48095238  0.48571429\n",
      "  0.48571429  0.5         0.52380952  0.48095238  0.50952381  0.52380952\n",
      "  0.5         0.50952381  0.55238095  0.52380952  0.49047619  0.58571429\n",
      "  0.44761905  0.45238095  0.51428571  0.5         0.51904762  0.47142857\n",
      "  0.53333333  0.45238095  0.53333333  0.54761905  0.50952381  0.52380952\n",
      "  0.51904762  0.47142857  0.53333333  0.41904762  0.53809524  0.54285714\n",
      "  0.54761905  0.56190476  0.54285714  0.4952381   0.55714286  0.48571429\n",
      "  0.53333333  0.48571429  0.50952381  0.4952381   0.47619048  0.5\n",
      "  0.46666667  0.5047619   0.53809524  0.47619048  0.47619048  0.5\n",
      "  0.56666667  0.53809524  0.51904762  0.48095238  0.48571429  0.52857143\n",
      "  0.52380952  0.48095238  0.43333333  0.48095238  0.58095238  0.52857143\n",
      "  0.52857143  0.50952381  0.54761905  0.46190476  0.52857143  0.51428571\n",
      "  0.5         0.4952381   0.5047619   0.55714286  0.54285714  0.43333333\n",
      "  0.47619048  0.49047619  0.5         0.5         0.48571429  0.42857143\n",
      "  0.52380952  0.50952381  0.49047619  0.47619048  0.48571429  0.52380952\n",
      "  0.46666667  0.54285714  0.48571429  0.49047619  0.44761905  0.53333333\n",
      "  0.48095238  0.45714286  0.50952381  0.49047619  0.43809524  0.43333333\n",
      "  0.5047619   0.44761905  0.47142857  0.54761905  0.51904762  0.4952381\n",
      "  0.53333333  0.45238095  0.48571429  0.56190476  0.53333333  0.51428571\n",
      "  0.4952381   0.48571429  0.5         0.5         0.44285714  0.5\n",
      "  0.46190476  0.57142857  0.51904762  0.4952381   0.46666667  0.55238095\n",
      "  0.47619048  0.48095238  0.54761905  0.5047619   0.5047619   0.47142857\n",
      "  0.52857143  0.45714286  0.46666667  0.53333333  0.49047619  0.53809524\n",
      "  0.49047619  0.46190476  0.52380952  0.49047619  0.51428571  0.46666667\n",
      "  0.54285714  0.45714286  0.52380952  0.49047619  0.51904762  0.54285714\n",
      "  0.56190476  0.53333333  0.54761905  0.5         0.51904762  0.50952381\n",
      "  0.52857143  0.52380952  0.53809524  0.50952381  0.5         0.52857143\n",
      "  0.47619048  0.53333333  0.50952381  0.55714286  0.52857143  0.52857143\n",
      "  0.56190476  0.47142857  0.53333333  0.52857143  0.54285714  0.44761905\n",
      "  0.48095238  0.48095238  0.42857143  0.53333333  0.52857143  0.44285714\n",
      "  0.47142857  0.50952381  0.47142857  0.52380952  0.46666667  0.4952381\n",
      "  0.48095238  0.49047619  0.49047619  0.46190476  0.53809524  0.45714286\n",
      "  0.47142857  0.54285714  0.52380952  0.49047619  0.52857143  0.50952381\n",
      "  0.51904762  0.4952381   0.47619048  0.46666667  0.49047619  0.52380952\n",
      "  0.54285714  0.53333333  0.55714286  0.49047619  0.5         0.46666667\n",
      "  0.48571429  0.47142857  0.5047619   0.42380952  0.46190476  0.48571429\n",
      "  0.45714286  0.45714286  0.53809524  0.46190476  0.46666667  0.50952381\n",
      "  0.51428571  0.57142857  0.47142857  0.54761905  0.51428571  0.44285714\n",
      "  0.5         0.5047619   0.51428571  0.43809524  0.51904762  0.50952381\n",
      "  0.49047619  0.5047619   0.53333333  0.51904762  0.51904762  0.48571429\n",
      "  0.47619048  0.47142857  0.49047619  0.5047619   0.50952381  0.47619048\n",
      "  0.51428571  0.45714286  0.48571429  0.54285714  0.56190476  0.51904762\n",
      "  0.48571429  0.48571429  0.46190476  0.47142857  0.5047619   0.53333333\n",
      "  0.57619048  0.45238095  0.52857143  0.53333333  0.50952381  0.4952381\n",
      "  0.50952381  0.50952381  0.4952381   0.5         0.47619048  0.5\n",
      "  0.52857143  0.48095238  0.52857143  0.5047619   0.55238095  0.48095238\n",
      "  0.5047619   0.48095238  0.54761905  0.46666667  0.47142857  0.52857143\n",
      "  0.56190476  0.5         0.53809524  0.55714286  0.56666667  0.48571429\n",
      "  0.48571429  0.44285714  0.48571429  0.51904762  0.52857143  0.4952381\n",
      "  0.51904762  0.54285714  0.53809524  0.45238095  0.51904762  0.4952381\n",
      "  0.51904762  0.48095238  0.45714286  0.54761905  0.48095238  0.42380952\n",
      "  0.48571429  0.46190476  0.55714286  0.45714286  0.52380952  0.4952381\n",
      "  0.47142857  0.51904762  0.49047619  0.55238095  0.5047619   0.46190476\n",
      "  0.51428571  0.55238095  0.48095238  0.45714286  0.53333333  0.50952381\n",
      "  0.48095238  0.5         0.52857143  0.42857143  0.44761905  0.52857143\n",
      "  0.52380952  0.44285714  0.48571429  0.45714286  0.53809524  0.50952381\n",
      "  0.47142857  0.47142857  0.5047619   0.53809524  0.44285714  0.5047619\n",
      "  0.55714286  0.53809524  0.51904762  0.48571429  0.48571429  0.42857143\n",
      "  0.47619048  0.5047619   0.58095238  0.51428571  0.49047619  0.5\n",
      "  0.5047619   0.51428571  0.48095238  0.51904762  0.52857143  0.51904762\n",
      "  0.47619048  0.48095238  0.54761905  0.49047619  0.41904762  0.43809524\n",
      "  0.47619048  0.47142857  0.5         0.55714286  0.51904762  0.53333333\n",
      "  0.52380952  0.48095238  0.54761905  0.53809524  0.51904762  0.54285714\n",
      "  0.53333333  0.5047619   0.51904762  0.51904762  0.56666667  0.46190476\n",
      "  0.48571429  0.53333333  0.55238095  0.50952381  0.48571429  0.46190476\n",
      "  0.50952381  0.51428571  0.5         0.53809524  0.47142857  0.45714286\n",
      "  0.40952381  0.43333333  0.53333333  0.47619048  0.51428571  0.51428571\n",
      "  0.49047619  0.47619048  0.53809524  0.46190476  0.46190476  0.43333333\n",
      "  0.53809524  0.44285714  0.52857143  0.51428571  0.5         0.44761905\n",
      "  0.5         0.5047619   0.52857143  0.52857143  0.4952381   0.4952381\n",
      "  0.47619048  0.49047619  0.46190476  0.52380952  0.4952381   0.5\n",
      "  0.47619048  0.4952381   0.48571429  0.54761905  0.44285714  0.43809524\n",
      "  0.54761905  0.52380952  0.46666667  0.52857143  0.47619048  0.4952381\n",
      "  0.5         0.56190476  0.48571429  0.55714286  0.43809524  0.51904762\n",
      "  0.5047619   0.55238095  0.4952381   0.53809524  0.5047619   0.5047619\n",
      "  0.51904762  0.57142857  0.52380952  0.5047619   0.46666667  0.52857143\n",
      "  0.47619048  0.50952381  0.47619048  0.59047619  0.55238095  0.48095238\n",
      "  0.45714286  0.44285714  0.5         0.45714286  0.51904762  0.48571429\n",
      "  0.55714286  0.47142857  0.51428571  0.51428571  0.50952381  0.48571429\n",
      "  0.55238095  0.51428571  0.53809524  0.54761905  0.48095238  0.51428571\n",
      "  0.49047619  0.49047619  0.56666667  0.52380952  0.51428571  0.46666667\n",
      "  0.53333333  0.39047619  0.51904762  0.54285714  0.53809524  0.5\n",
      "  0.42857143  0.52857143  0.48571429  0.52857143  0.52857143  0.56190476\n",
      "  0.45238095  0.45238095  0.51428571  0.56190476  0.51428571  0.53809524\n",
      "  0.5         0.4952381   0.50952381  0.48571429  0.51428571  0.53809524\n",
      "  0.48095238  0.45714286  0.53809524  0.54285714  0.51904762  0.4952381\n",
      "  0.47619048  0.48095238  0.47142857  0.48571429  0.47142857  0.55238095\n",
      "  0.49047619  0.4952381   0.44761905  0.53809524  0.47619048  0.50952381\n",
      "  0.49047619  0.45238095  0.5047619   0.52857143  0.54761905  0.42857143\n",
      "  0.5047619   0.51428571  0.5         0.47619048  0.53333333  0.51428571\n",
      "  0.5         0.39047619  0.54761905  0.49047619  0.44285714  0.54761905\n",
      "  0.45714286  0.46666667  0.51904762  0.51904762  0.52380952  0.5\n",
      "  0.55238095  0.56190476  0.51428571  0.51904762  0.51904762  0.55238095\n",
      "  0.50952381  0.50952381  0.53809524  0.54285714  0.48571429  0.45714286\n",
      "  0.49047619  0.47619048  0.53333333  0.47142857  0.47619048  0.56666667\n",
      "  0.46190476  0.45238095  0.5047619   0.55714286  0.42857143  0.5\n",
      "  0.47619048  0.51428571  0.45238095  0.51428571  0.43333333  0.4952381\n",
      "  0.50952381  0.49047619  0.54761905  0.4952381   0.49047619  0.45238095\n",
      "  0.45714286  0.48095238  0.53333333  0.54285714  0.4952381   0.52380952\n",
      "  0.48095238  0.5         0.49047619  0.46666667  0.51428571  0.48571429\n",
      "  0.48571429  0.52857143  0.52380952  0.48095238  0.47142857  0.48095238\n",
      "  0.54761905  0.51904762  0.5         0.46190476  0.54761905  0.57619048\n",
      "  0.48095238  0.47619048  0.52380952  0.53333333  0.47142857  0.51904762\n",
      "  0.5         0.5047619   0.54285714  0.51904762  0.51904762  0.52380952\n",
      "  0.49047619  0.44761905  0.54285714  0.52380952  0.48571429  0.52857143\n",
      "  0.45714286  0.52380952  0.58095238  0.5047619   0.44285714  0.46666667\n",
      "  0.52857143  0.46666667  0.5047619   0.46190476  0.44761905  0.52857143\n",
      "  0.47619048  0.47619048  0.50952381  0.4952381   0.53333333  0.54285714\n",
      "  0.50952381  0.44285714  0.49047619  0.55238095  0.54285714  0.52380952\n",
      "  0.50952381  0.5047619   0.54285714  0.48571429  0.48095238  0.52857143\n",
      "  0.51904762  0.45238095  0.47142857  0.48571429  0.48571429  0.49047619\n",
      "  0.52857143  0.51904762  0.54285714  0.5         0.45238095  0.57142857\n",
      "  0.51428571  0.46190476  0.45238095  0.53333333]\n"
     ]
    }
   ],
   "source": [
    "num_repetitions = np.arange(1,1001)\n",
    "simulated_statistics = []\n",
    "for p in num_repetitions:\n",
    "    simulated_statistics = np.append(simulated_statistics,sample_proportions(210,model_proportions).item(0))\n",
    "    \n",
    "print (simulated_statistics)"
   ]
  },
  {
   "cell_type": "code",
   "execution_count": 160,
   "metadata": {
    "deletable": false,
    "editable": false
   },
   "outputs": [
    {
     "data": {
      "text/html": [
       "<p><strong><pre style='display: inline;'>q1_8</pre></strong> passed!</p>"
      ],
      "text/plain": [
       "q1_8 results: All test cases passed!"
      ]
     },
     "execution_count": 160,
     "metadata": {},
     "output_type": "execute_result"
    }
   ],
   "source": [
    "grader.check(\"q1_8\")"
   ]
  },
  {
   "cell_type": "markdown",
   "metadata": {},
   "source": [
    "Let's view the distribution of the simulated statistics under Emily's model, and visually compare where the observed statistic lies relative to the simulated statistics."
   ]
  },
  {
   "cell_type": "code",
   "execution_count": 161,
   "metadata": {},
   "outputs": [
    {
     "data": {
      "image/png": "[encoded data removed]",
      "text/plain": [
       "<Figure size 432x288 with 1 Axes>"
      ]
     },
     "metadata": {},
     "output_type": "display_data"
    }
   ],
   "source": [
    "t = Table().with_column('Simulated Statistics', simulated_statistics)\n",
    "t.hist()\n",
    "plt.scatter(observed_statistic, 0, color='red', s=30);"
   ]
  },
  {
   "cell_type": "markdown",
   "metadata": {},
   "source": [
    "We can make a visual argument as to whether we believe the observed statistic is consistent with Emily’s model. Here, since larger values of the test statistic suggest the alternative model (where the chance of guessing the correct hand is something other than 50%), we can formalize our analysis by finding what proportion of simulated statistics were as large or larger than our observed test statistic (the area at or to the right of the observed test statistic). If this area is small enough, we’ll declare that the observed data are inconsistent with our simulated model."
   ]
  },
  {
   "cell_type": "markdown",
   "metadata": {
    "deletable": false,
    "editable": false
   },
   "source": [
    "**Question 9:** Calculate the proportion of simulated statistics greater than or equal to the observed statistic. \n",
    "\n",
    "<!--\n",
    "BEGIN QUESTION\n",
    "name: q1_9\n",
    "-->"
   ]
  },
  {
   "cell_type": "code",
   "execution_count": 231,
   "metadata": {
    "scrolled": true
   },
   "outputs": [
    {
     "data": {
      "text/plain": [
       "0.0"
      ]
     },
     "execution_count": 231,
     "metadata": {},
     "output_type": "execute_result"
    }
   ],
   "source": [
    "greatercounter = 0\n",
    "lessercounter = 0\n",
    "\n",
    "for i in simulated_statistics: \n",
    "    if (i)>=observed_statistic:\n",
    "       greatercounter = greatercounter+1\n",
    "    else:\n",
    "        lessercounter = lessercounter+1\n",
    "        \n",
    "greatercounter,lessercounter\n",
    "proportion_greater_or_equal = greatercounter/lessercounter\n",
    "proportion_greater_or_equal"
   ]
  },
  {
   "cell_type": "code",
   "execution_count": 209,
   "metadata": {},
   "outputs": [
    {
     "data": {
      "text/plain": [
       "6.0"
      ]
     },
     "execution_count": 209,
     "metadata": {},
     "output_type": "execute_result"
    }
   ],
   "source": []
  },
  {
   "cell_type": "code",
   "execution_count": 232,
   "metadata": {
    "deletable": false,
    "editable": false
   },
   "outputs": [
    {
     "data": {
      "text/html": [
       "<p><strong><pre style='display: inline;'>q1_9</pre></strong> passed!</p>"
      ],
      "text/plain": [
       "q1_9 results: All test cases passed!"
      ]
     },
     "execution_count": 232,
     "metadata": {},
     "output_type": "execute_result"
    }
   ],
   "source": [
    "grader.check(\"q1_9\")"
   ]
  },
  {
   "cell_type": "markdown",
   "metadata": {},
   "source": [
    "By convention, we often compare the proportion we just calculated to 0.05. If the proportion of simulated statistics greater than or equal to the observed statistic is sufficiently small (less than or equal to 0.05), then this is evidence against Emily's model. Otherwise, we don’t have any reason to doubt Emily’s model. \n",
    "\n",
    "This should help you make your own conclusions about Emily Rosa's experiment. \n",
    "\n",
    "Therapeutic touch fell out of use after this experiment, which was eventually accepted into one of the premier medical journals. TT practitioners hit back and accused Emily and her family of tampering with the results, while some claimed that Emily's bad spiritual mood towards therapeutic touch made it difficult to read her HEF. Whatever it may be, Emily's experiment is a classic example about how anyone, with the right resources, can test anything they want!\n",
    "\n",
    "Think to yourself and be prepared to talk with me or your classmates about the following questions: \n",
    "\n",
    "1. Is the data more consistent with Emily' model (practioners were randomly guessing)?\n",
    "2. What does this mean in terms of Emily's experiment? Do the TT practitioners' answers follow an even chance model or is there something else at play? \n",
    "\n",
    "Lastly, make sure to run \n",
    "\n",
    "- hit the save button, and\n",
    "- kernel -> restart and run all.\n",
    "\n",
    "Once everything is to your liking, submit the `.ipynb` file to Gradescope."
   ]
  }
 ],
 "metadata": {
  "celltoolbar": "Edit Metadata",
  "kernelspec": {
   "display_name": "Python 3 (ipykernel)",
   "language": "python",
   "name": "python3"
  },
  "language_info": {
   "codemirror_mode": {
    "name": "ipython",
    "version": 3
   },
   "file_extension": ".py",
   "mimetype": "text/x-python",
   "name": "python",
   "nbconvert_exporter": "python",
   "pygments_lexer": "ipython3",
   "version": "3.9.12"
  }
 },
 "nbformat": 4,
 "nbformat_minor": 2
}
